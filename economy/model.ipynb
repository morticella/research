{
 "cells": [
  {
   "cell_type": "code",
   "execution_count": 1,
   "metadata": {},
   "outputs": [
    {
     "name": "stdout",
     "output_type": "stream",
     "text": [
      "Collecting tensorflow\n",
      "  Downloading tensorflow-2.8.0-cp38-cp38-macosx_10_14_x86_64.whl (217.4 MB)\n",
      "\u001b[K     |████████████████████████████████| 217.4 MB 3.0 MB/s eta 0:00:01   |                                | 645 kB 2.5 MB/s eta 0:01:27     |█████                           | 33.9 MB 3.0 MB/s eta 0:01:02     |█████████████████               | 114.8 MB 1.6 MB/s eta 0:01:03     |█████████████████▏              | 116.7 MB 1.6 MB/s eta 0:01:02     |█████████████████████▊          | 147.5 MB 3.1 MB/s eta 0:00:23     |███████████████████████         | 156.7 MB 3.0 MB/s eta 0:00:21     |██████████████████████████      | 176.3 MB 2.7 MB/s eta 0:00:16\n",
      "\u001b[?25hCollecting keras<2.9,>=2.8.0rc0\n",
      "  Downloading keras-2.8.0-py2.py3-none-any.whl (1.4 MB)\n",
      "\u001b[K     |████████████████████████████████| 1.4 MB 3.9 MB/s eta 0:00:01\n",
      "\u001b[?25hRequirement already satisfied: six>=1.12.0 in /Users/im031814/opt/anaconda3/lib/python3.8/site-packages (from tensorflow) (1.15.0)\n",
      "Requirement already satisfied: setuptools in /Users/im031814/opt/anaconda3/lib/python3.8/site-packages (from tensorflow) (52.0.0.post20210125)\n",
      "Collecting tf-estimator-nightly==2.8.0.dev2021122109\n",
      "  Downloading tf_estimator_nightly-2.8.0.dev2021122109-py2.py3-none-any.whl (462 kB)\n",
      "\u001b[K     |████████████████████████████████| 462 kB 3.6 MB/s eta 0:00:01\n",
      "\u001b[?25hCollecting astunparse>=1.6.0\n",
      "  Using cached astunparse-1.6.3-py2.py3-none-any.whl (12 kB)\n",
      "Requirement already satisfied: wrapt>=1.11.0 in /Users/im031814/opt/anaconda3/lib/python3.8/site-packages (from tensorflow) (1.12.1)\n",
      "Collecting opt-einsum>=2.3.2\n",
      "  Using cached opt_einsum-3.3.0-py3-none-any.whl (65 kB)\n",
      "Collecting grpcio<2.0,>=1.24.3\n",
      "  Downloading grpcio-1.46.0-cp38-cp38-macosx_10_10_x86_64.whl (4.4 MB)\n",
      "\u001b[K     |████████████████████████████████| 4.4 MB 3.4 MB/s eta 0:00:01\n",
      "\u001b[?25hRequirement already satisfied: h5py>=2.9.0 in /Users/im031814/opt/anaconda3/lib/python3.8/site-packages (from tensorflow) (2.10.0)\n",
      "Collecting libclang>=9.0.1\n",
      "  Downloading libclang-14.0.1-py2.py3-none-macosx_10_9_x86_64.whl (13.2 MB)\n",
      "\u001b[K     |████████████████████████████████| 13.2 MB 293 kB/s eta 0:00:01\n",
      "\u001b[?25hRequirement already satisfied: numpy>=1.20 in /Users/im031814/opt/anaconda3/lib/python3.8/site-packages (from tensorflow) (1.20.1)\n",
      "Requirement already satisfied: typing-extensions>=3.6.6 in /Users/im031814/opt/anaconda3/lib/python3.8/site-packages (from tensorflow) (3.7.4.3)\n",
      "Collecting flatbuffers>=1.12\n",
      "  Downloading flatbuffers-2.0-py2.py3-none-any.whl (26 kB)\n",
      "Collecting absl-py>=0.4.0\n",
      "  Downloading absl_py-1.0.0-py3-none-any.whl (126 kB)\n",
      "\u001b[K     |████████████████████████████████| 126 kB 2.7 MB/s eta 0:00:01\n",
      "\u001b[?25hCollecting termcolor>=1.1.0\n",
      "  Using cached termcolor-1.1.0.tar.gz (3.9 kB)\n",
      "Collecting keras-preprocessing>=1.1.1\n",
      "  Using cached Keras_Preprocessing-1.1.2-py2.py3-none-any.whl (42 kB)\n",
      "Collecting protobuf>=3.9.2\n",
      "  Downloading protobuf-3.20.1-cp38-cp38-macosx_10_9_x86_64.whl (962 kB)\n",
      "\u001b[K     |████████████████████████████████| 962 kB 3.6 MB/s eta 0:00:01\n",
      "\u001b[?25hCollecting gast>=0.2.1\n",
      "  Downloading gast-0.5.3-py3-none-any.whl (19 kB)\n",
      "Collecting tensorflow-io-gcs-filesystem>=0.23.1\n",
      "  Downloading tensorflow_io_gcs_filesystem-0.25.0-cp38-cp38-macosx_10_14_x86_64.whl (1.6 MB)\n",
      "\u001b[K     |████████████████████████████████| 1.6 MB 3.9 MB/s eta 0:00:01\n",
      "\u001b[?25hCollecting google-pasta>=0.1.1\n",
      "  Using cached google_pasta-0.2.0-py3-none-any.whl (57 kB)\n",
      "Collecting tensorboard<2.9,>=2.8\n",
      "  Downloading tensorboard-2.8.0-py3-none-any.whl (5.8 MB)\n",
      "\u001b[K     |████████████████████████████████| 5.8 MB 4.7 MB/s eta 0:00:01\n",
      "\u001b[?25hRequirement already satisfied: wheel<1.0,>=0.23.0 in /Users/im031814/opt/anaconda3/lib/python3.8/site-packages (from astunparse>=1.6.0->tensorflow) (0.36.2)\n",
      "Requirement already satisfied: werkzeug>=0.11.15 in /Users/im031814/opt/anaconda3/lib/python3.8/site-packages (from tensorboard<2.9,>=2.8->tensorflow) (1.0.1)\n",
      "Collecting tensorboard-plugin-wit>=1.6.0\n",
      "  Downloading tensorboard_plugin_wit-1.8.1-py3-none-any.whl (781 kB)\n",
      "\u001b[K     |████████████████████████████████| 781 kB 4.7 MB/s eta 0:00:01\n",
      "\u001b[?25hCollecting tensorboard-data-server<0.7.0,>=0.6.0\n",
      "  Using cached tensorboard_data_server-0.6.1-py3-none-macosx_10_9_x86_64.whl (3.5 MB)\n",
      "Requirement already satisfied: requests<3,>=2.21.0 in /Users/im031814/opt/anaconda3/lib/python3.8/site-packages (from tensorboard<2.9,>=2.8->tensorflow) (2.25.1)\n",
      "Collecting google-auth<3,>=1.6.3\n",
      "  Downloading google_auth-2.6.6-py2.py3-none-any.whl (156 kB)\n",
      "\u001b[K     |████████████████████████████████| 156 kB 2.6 MB/s eta 0:00:01\n",
      "\u001b[?25hCollecting google-auth-oauthlib<0.5,>=0.4.1\n",
      "  Downloading google_auth_oauthlib-0.4.6-py2.py3-none-any.whl (18 kB)\n",
      "Collecting markdown>=2.6.8\n",
      "  Downloading Markdown-3.3.6-py3-none-any.whl (97 kB)\n",
      "\u001b[K     |████████████████████████████████| 97 kB 4.3 MB/s eta 0:00:01\n",
      "\u001b[?25hCollecting pyasn1-modules>=0.2.1\n",
      "  Using cached pyasn1_modules-0.2.8-py2.py3-none-any.whl (155 kB)\n",
      "Collecting rsa<5,>=3.1.4\n",
      "  Downloading rsa-4.8-py3-none-any.whl (39 kB)\n",
      "Collecting cachetools<6.0,>=2.0.0\n",
      "  Downloading cachetools-5.0.0-py3-none-any.whl (9.1 kB)\n",
      "Collecting requests-oauthlib>=0.7.0\n",
      "  Downloading requests_oauthlib-1.3.1-py2.py3-none-any.whl (23 kB)\n",
      "Collecting importlib-metadata>=4.4\n",
      "  Downloading importlib_metadata-4.11.3-py3-none-any.whl (18 kB)\n",
      "Requirement already satisfied: zipp>=0.5 in /Users/im031814/opt/anaconda3/lib/python3.8/site-packages (from importlib-metadata>=4.4->markdown>=2.6.8->tensorboard<2.9,>=2.8->tensorflow) (3.4.1)\n",
      "Collecting pyasn1<0.5.0,>=0.4.6\n",
      "  Using cached pyasn1-0.4.8-py2.py3-none-any.whl (77 kB)\n",
      "Requirement already satisfied: urllib3<1.27,>=1.21.1 in /Users/im031814/opt/anaconda3/lib/python3.8/site-packages (from requests<3,>=2.21.0->tensorboard<2.9,>=2.8->tensorflow) (1.26.4)\n",
      "Requirement already satisfied: idna<3,>=2.5 in /Users/im031814/opt/anaconda3/lib/python3.8/site-packages (from requests<3,>=2.21.0->tensorboard<2.9,>=2.8->tensorflow) (2.10)\n",
      "Requirement already satisfied: certifi>=2017.4.17 in /Users/im031814/opt/anaconda3/lib/python3.8/site-packages (from requests<3,>=2.21.0->tensorboard<2.9,>=2.8->tensorflow) (2020.12.5)\n",
      "Requirement already satisfied: chardet<5,>=3.0.2 in /Users/im031814/opt/anaconda3/lib/python3.8/site-packages (from requests<3,>=2.21.0->tensorboard<2.9,>=2.8->tensorflow) (4.0.0)\n",
      "Collecting oauthlib>=3.0.0\n",
      "  Downloading oauthlib-3.2.0-py3-none-any.whl (151 kB)\n",
      "\u001b[K     |████████████████████████████████| 151 kB 4.6 MB/s eta 0:00:01\n",
      "\u001b[?25hBuilding wheels for collected packages: termcolor\n",
      "  Building wheel for termcolor (setup.py) ... \u001b[?25ldone\n",
      "\u001b[?25h  Created wheel for termcolor: filename=termcolor-1.1.0-py3-none-any.whl size=4829 sha256=fad8c73975336d95d6adf1d8dcdc7b53e705df73d237318263e19d22ef6a961f\n",
      "  Stored in directory: /Users/im031814/Library/Caches/pip/wheels/a0/16/9c/5473df82468f958445479c59e784896fa24f4a5fc024b0f501\n",
      "Successfully built termcolor\n",
      "Installing collected packages: pyasn1, rsa, pyasn1-modules, oauthlib, cachetools, requests-oauthlib, importlib-metadata, google-auth, tensorboard-plugin-wit, tensorboard-data-server, protobuf, markdown, grpcio, google-auth-oauthlib, absl-py, tf-estimator-nightly, termcolor, tensorflow-io-gcs-filesystem, tensorboard, opt-einsum, libclang, keras-preprocessing, keras, google-pasta, gast, flatbuffers, astunparse, tensorflow\n",
      "  Attempting uninstall: importlib-metadata\n",
      "    Found existing installation: importlib-metadata 3.10.0\n",
      "    Uninstalling importlib-metadata-3.10.0:\n",
      "      Successfully uninstalled importlib-metadata-3.10.0\n",
      "Successfully installed absl-py-1.0.0 astunparse-1.6.3 cachetools-5.0.0 flatbuffers-2.0 gast-0.5.3 google-auth-2.6.6 google-auth-oauthlib-0.4.6 google-pasta-0.2.0 grpcio-1.46.0 importlib-metadata-4.11.3 keras-2.8.0 keras-preprocessing-1.1.2 libclang-14.0.1 markdown-3.3.6 oauthlib-3.2.0 opt-einsum-3.3.0 protobuf-3.20.1 pyasn1-0.4.8 pyasn1-modules-0.2.8 requests-oauthlib-1.3.1 rsa-4.8 tensorboard-2.8.0 tensorboard-data-server-0.6.1 tensorboard-plugin-wit-1.8.1 tensorflow-2.8.0 tensorflow-io-gcs-filesystem-0.25.0 termcolor-1.1.0 tf-estimator-nightly-2.8.0.dev2021122109\n",
      "Requirement already satisfied: matplotlib in /Users/im031814/opt/anaconda3/lib/python3.8/site-packages (3.3.4)\n",
      "Requirement already satisfied: numpy>=1.15 in /Users/im031814/opt/anaconda3/lib/python3.8/site-packages (from matplotlib) (1.20.1)\n",
      "Requirement already satisfied: cycler>=0.10 in /Users/im031814/opt/anaconda3/lib/python3.8/site-packages (from matplotlib) (0.10.0)\n",
      "Requirement already satisfied: kiwisolver>=1.0.1 in /Users/im031814/opt/anaconda3/lib/python3.8/site-packages (from matplotlib) (1.3.1)\n",
      "Requirement already satisfied: pillow>=6.2.0 in /Users/im031814/opt/anaconda3/lib/python3.8/site-packages (from matplotlib) (8.2.0)\n",
      "Requirement already satisfied: python-dateutil>=2.1 in /Users/im031814/opt/anaconda3/lib/python3.8/site-packages (from matplotlib) (2.8.1)\n",
      "Requirement already satisfied: pyparsing!=2.0.4,!=2.1.2,!=2.1.6,>=2.0.3 in /Users/im031814/opt/anaconda3/lib/python3.8/site-packages (from matplotlib) (2.4.7)\n",
      "Requirement already satisfied: six in /Users/im031814/opt/anaconda3/lib/python3.8/site-packages (from cycler>=0.10->matplotlib) (1.15.0)\n"
     ]
    },
    {
     "name": "stdout",
     "output_type": "stream",
     "text": [
      "Requirement already satisfied: pandas in /Users/im031814/opt/anaconda3/lib/python3.8/site-packages (1.2.4)\n",
      "Requirement already satisfied: python-dateutil>=2.7.3 in /Users/im031814/opt/anaconda3/lib/python3.8/site-packages (from pandas) (2.8.1)\n",
      "Requirement already satisfied: pytz>=2017.3 in /Users/im031814/opt/anaconda3/lib/python3.8/site-packages (from pandas) (2021.1)\n",
      "Requirement already satisfied: numpy>=1.16.5 in /Users/im031814/opt/anaconda3/lib/python3.8/site-packages (from pandas) (1.20.1)\n",
      "Requirement already satisfied: six>=1.5 in /Users/im031814/opt/anaconda3/lib/python3.8/site-packages (from python-dateutil>=2.7.3->pandas) (1.15.0)\n",
      "Requirement already satisfied: numpy in /Users/im031814/opt/anaconda3/lib/python3.8/site-packages (1.20.1)\n"
     ]
    }
   ],
   "source": [
    "!pip3 install tensorflow\n",
    "!pip3 install matplotlib\n",
    "!pip3 install pandas\n",
    "!pip3 install numpy"
   ]
  },
  {
   "cell_type": "code",
   "execution_count": 12,
   "metadata": {},
   "outputs": [],
   "source": [
    "import matplotlib.pyplot as plt\n",
    "import numpy as np\n",
    "import tensorflow as tf\n",
    "import pandas as pd\n",
    "from tensorflow import keras\n",
    "from tensorflow.keras.layers.experimental import preprocessing\n",
    "import seaborn as sns"
   ]
  },
  {
   "cell_type": "code",
   "execution_count": 3,
   "metadata": {},
   "outputs": [
    {
     "name": "stdout",
     "output_type": "stream",
     "text": [
      "version 2.8.0\n"
     ]
    }
   ],
   "source": [
    "print('version',tf.__version__)"
   ]
  },
  {
   "cell_type": "code",
   "execution_count": 15,
   "metadata": {},
   "outputs": [
    {
     "data": {
      "text/html": [
       "<div>\n",
       "<style scoped>\n",
       "    .dataframe tbody tr th:only-of-type {\n",
       "        vertical-align: middle;\n",
       "    }\n",
       "\n",
       "    .dataframe tbody tr th {\n",
       "        vertical-align: top;\n",
       "    }\n",
       "\n",
       "    .dataframe thead th {\n",
       "        text-align: right;\n",
       "    }\n",
       "</style>\n",
       "<table border=\"1\" class=\"dataframe\">\n",
       "  <thead>\n",
       "    <tr style=\"text-align: right;\">\n",
       "      <th></th>\n",
       "      <th>exa</th>\n",
       "      <th>up</th>\n",
       "      <th>up_prev</th>\n",
       "      <th>up_next</th>\n",
       "      <th>ingeneo</th>\n",
       "    </tr>\n",
       "  </thead>\n",
       "  <tbody>\n",
       "    <tr>\n",
       "      <th>0</th>\n",
       "      <td>64</td>\n",
       "      <td>0</td>\n",
       "      <td>5</td>\n",
       "      <td>14</td>\n",
       "      <td>0</td>\n",
       "    </tr>\n",
       "    <tr>\n",
       "      <th>1</th>\n",
       "      <td>5</td>\n",
       "      <td>1</td>\n",
       "      <td>10</td>\n",
       "      <td>14</td>\n",
       "      <td>3</td>\n",
       "    </tr>\n",
       "    <tr>\n",
       "      <th>2</th>\n",
       "      <td>10</td>\n",
       "      <td>1</td>\n",
       "      <td>16</td>\n",
       "      <td>5</td>\n",
       "      <td>3</td>\n",
       "    </tr>\n",
       "    <tr>\n",
       "      <th>3</th>\n",
       "      <td>16</td>\n",
       "      <td>0</td>\n",
       "      <td>3</td>\n",
       "      <td>10</td>\n",
       "      <td>-3</td>\n",
       "    </tr>\n",
       "    <tr>\n",
       "      <th>4</th>\n",
       "      <td>3</td>\n",
       "      <td>0</td>\n",
       "      <td>32</td>\n",
       "      <td>16</td>\n",
       "      <td>-2</td>\n",
       "    </tr>\n",
       "    <tr>\n",
       "      <th>...</th>\n",
       "      <td>...</td>\n",
       "      <td>...</td>\n",
       "      <td>...</td>\n",
       "      <td>...</td>\n",
       "      <td>...</td>\n",
       "    </tr>\n",
       "    <tr>\n",
       "      <th>10267</th>\n",
       "      <td>12</td>\n",
       "      <td>0</td>\n",
       "      <td>42</td>\n",
       "      <td>34</td>\n",
       "      <td>-3</td>\n",
       "    </tr>\n",
       "    <tr>\n",
       "      <th>10268</th>\n",
       "      <td>42</td>\n",
       "      <td>0</td>\n",
       "      <td>53</td>\n",
       "      <td>12</td>\n",
       "      <td>-3</td>\n",
       "    </tr>\n",
       "    <tr>\n",
       "      <th>10269</th>\n",
       "      <td>53</td>\n",
       "      <td>0</td>\n",
       "      <td>2</td>\n",
       "      <td>42</td>\n",
       "      <td>-2</td>\n",
       "    </tr>\n",
       "    <tr>\n",
       "      <th>10270</th>\n",
       "      <td>2</td>\n",
       "      <td>0</td>\n",
       "      <td>23</td>\n",
       "      <td>53</td>\n",
       "      <td>1</td>\n",
       "    </tr>\n",
       "    <tr>\n",
       "      <th>10271</th>\n",
       "      <td>23</td>\n",
       "      <td>0</td>\n",
       "      <td>4</td>\n",
       "      <td>2</td>\n",
       "      <td>-2</td>\n",
       "    </tr>\n",
       "  </tbody>\n",
       "</table>\n",
       "<p>10272 rows × 5 columns</p>\n",
       "</div>"
      ],
      "text/plain": [
       "       exa  up  up_prev  up_next  ingeneo\n",
       "0       64   0        5       14        0\n",
       "1        5   1       10       14        3\n",
       "2       10   1       16        5        3\n",
       "3       16   0        3       10       -3\n",
       "4        3   0       32       16       -2\n",
       "...    ...  ..      ...      ...      ...\n",
       "10267   12   0       42       34       -3\n",
       "10268   42   0       53       12       -3\n",
       "10269   53   0        2       42       -2\n",
       "10270    2   0       23       53        1\n",
       "10271   23   0        4        2       -2\n",
       "\n",
       "[10272 rows x 5 columns]"
      ]
     },
     "execution_count": 15,
     "metadata": {},
     "output_type": "execute_result"
    }
   ],
   "source": [
    "data_source = '/Users/im031814/Desktop/research/dataset/df_AAPL-3.csv';\n",
    "file_1 = pd.read_csv(data_source, low_memory=True)\n",
    "df = pd.DataFrame(file_1)\n",
    "df = df[['exa', 'up', 'up_prev', 'up_next', 'ingeneo']]\n",
    "df"
   ]
  },
  {
   "cell_type": "code",
   "execution_count": 16,
   "metadata": {},
   "outputs": [
    {
     "name": "stdout",
     "output_type": "stream",
     "text": [
      "<class 'pandas.core.frame.DataFrame'>\n",
      "RangeIndex: 10272 entries, 0 to 10271\n",
      "Data columns (total 5 columns):\n",
      " #   Column   Non-Null Count  Dtype\n",
      "---  ------   --------------  -----\n",
      " 0   exa      10272 non-null  int64\n",
      " 1   up       10272 non-null  int64\n",
      " 2   up_prev  10272 non-null  int64\n",
      " 3   up_next  10272 non-null  int64\n",
      " 4   ingeneo  10272 non-null  int64\n",
      "dtypes: int64(5)\n",
      "memory usage: 401.4 KB\n"
     ]
    }
   ],
   "source": [
    "df.info();"
   ]
  },
  {
   "cell_type": "code",
   "execution_count": 17,
   "metadata": {},
   "outputs": [
    {
     "data": {
      "text/html": [
       "<div>\n",
       "<style scoped>\n",
       "    .dataframe tbody tr th:only-of-type {\n",
       "        vertical-align: middle;\n",
       "    }\n",
       "\n",
       "    .dataframe tbody tr th {\n",
       "        vertical-align: top;\n",
       "    }\n",
       "\n",
       "    .dataframe thead th {\n",
       "        text-align: right;\n",
       "    }\n",
       "</style>\n",
       "<table border=\"1\" class=\"dataframe\">\n",
       "  <thead>\n",
       "    <tr style=\"text-align: right;\">\n",
       "      <th></th>\n",
       "      <th>count</th>\n",
       "      <th>mean</th>\n",
       "      <th>std</th>\n",
       "      <th>min</th>\n",
       "      <th>25%</th>\n",
       "      <th>50%</th>\n",
       "      <th>75%</th>\n",
       "      <th>max</th>\n",
       "    </tr>\n",
       "  </thead>\n",
       "  <tbody>\n",
       "    <tr>\n",
       "      <th>exa</th>\n",
       "      <td>10272.0</td>\n",
       "      <td>32.614875</td>\n",
       "      <td>18.500965</td>\n",
       "      <td>1.0</td>\n",
       "      <td>16.0</td>\n",
       "      <td>33.0</td>\n",
       "      <td>49.0</td>\n",
       "      <td>64.0</td>\n",
       "    </tr>\n",
       "    <tr>\n",
       "      <th>up</th>\n",
       "      <td>10272.0</td>\n",
       "      <td>0.453563</td>\n",
       "      <td>0.497863</td>\n",
       "      <td>0.0</td>\n",
       "      <td>0.0</td>\n",
       "      <td>0.0</td>\n",
       "      <td>1.0</td>\n",
       "      <td>1.0</td>\n",
       "    </tr>\n",
       "    <tr>\n",
       "      <th>up_prev</th>\n",
       "      <td>10272.0</td>\n",
       "      <td>32.609034</td>\n",
       "      <td>18.500527</td>\n",
       "      <td>1.0</td>\n",
       "      <td>16.0</td>\n",
       "      <td>33.0</td>\n",
       "      <td>49.0</td>\n",
       "      <td>64.0</td>\n",
       "    </tr>\n",
       "    <tr>\n",
       "      <th>up_next</th>\n",
       "      <td>10272.0</td>\n",
       "      <td>32.609132</td>\n",
       "      <td>18.499952</td>\n",
       "      <td>1.0</td>\n",
       "      <td>16.0</td>\n",
       "      <td>33.0</td>\n",
       "      <td>49.0</td>\n",
       "      <td>64.0</td>\n",
       "    </tr>\n",
       "    <tr>\n",
       "      <th>ingeneo</th>\n",
       "      <td>10272.0</td>\n",
       "      <td>-0.326519</td>\n",
       "      <td>2.210843</td>\n",
       "      <td>-3.0</td>\n",
       "      <td>-2.0</td>\n",
       "      <td>0.0</td>\n",
       "      <td>1.0</td>\n",
       "      <td>3.0</td>\n",
       "    </tr>\n",
       "  </tbody>\n",
       "</table>\n",
       "</div>"
      ],
      "text/plain": [
       "           count       mean        std  min   25%   50%   75%   max\n",
       "exa      10272.0  32.614875  18.500965  1.0  16.0  33.0  49.0  64.0\n",
       "up       10272.0   0.453563   0.497863  0.0   0.0   0.0   1.0   1.0\n",
       "up_prev  10272.0  32.609034  18.500527  1.0  16.0  33.0  49.0  64.0\n",
       "up_next  10272.0  32.609132  18.499952  1.0  16.0  33.0  49.0  64.0\n",
       "ingeneo  10272.0  -0.326519   2.210843 -3.0  -2.0   0.0   1.0   3.0"
      ]
     },
     "execution_count": 17,
     "metadata": {},
     "output_type": "execute_result"
    }
   ],
   "source": [
    "df.describe().transpose()"
   ]
  },
  {
   "cell_type": "code",
   "execution_count": 18,
   "metadata": {},
   "outputs": [
    {
     "data": {
      "text/plain": [
       "<AxesSubplot:xlabel='up', ylabel='count'>"
      ]
     },
     "execution_count": 18,
     "metadata": {},
     "output_type": "execute_result"
    },
    {
     "data": {
      "image/png": "[encoded data removed]",
      "text/plain": [
       "<Figure size 1152x720 with 1 Axes>"
      ]
     },
     "metadata": {
      "needs_background": "light"
     },
     "output_type": "display_data"
    }
   ],
   "source": [
    "plt.figure(figsize = (16,10))\n",
    "sns.countplot(x='up',data=df)"
   ]
  },
  {
   "cell_type": "code",
   "execution_count": 19,
   "metadata": {},
   "outputs": [
    {
     "data": {
      "text/plain": [
       "<AxesSubplot:>"
      ]
     },
     "execution_count": 19,
     "metadata": {},
     "output_type": "execute_result"
    },
    {
     "data": {
      "image/png": "[encoded data removed]",
      "text/plain": [
       "<Figure size 1152x1152 with 2 Axes>"
      ]
     },
     "metadata": {
      "needs_background": "light"
     },
     "output_type": "display_data"
    }
   ],
   "source": [
    "plt.figure(figsize = (16,16))\n",
    "# df = df.drop(['count', 'Unknown', 'range_author_PR_within28'], axis=1)\n",
    "sns.heatmap(df.corr())"
   ]
  },
  {
   "cell_type": "code",
   "execution_count": 20,
   "metadata": {},
   "outputs": [
    {
     "data": {
      "text/plain": [
       "exa       -0.001731\n",
       "up_prev    0.000884\n",
       "up_next    0.002733\n",
       "ingeneo    0.640694\n",
       "up         1.000000\n",
       "Name: up, dtype: float64"
      ]
     },
     "execution_count": 20,
     "metadata": {},
     "output_type": "execute_result"
    }
   ],
   "source": [
    "df.corr(method ='kendall')['up'].sort_values()"
   ]
  },
  {
   "cell_type": "code",
   "execution_count": 21,
   "metadata": {},
   "outputs": [
    {
     "data": {
      "text/plain": [
       "exa       -0.002100\n",
       "up_prev    0.001084\n",
       "up_next    0.003341\n",
       "ingeneo    0.720749\n",
       "up         1.000000\n",
       "Name: up, dtype: float64"
      ]
     },
     "execution_count": 21,
     "metadata": {},
     "output_type": "execute_result"
    }
   ],
   "source": [
    "df.corr()['up'].sort_values()"
   ]
  },
  {
   "cell_type": "code",
   "execution_count": 22,
   "metadata": {},
   "outputs": [
    {
     "data": {
      "text/plain": [
       "<AxesSubplot:>"
      ]
     },
     "execution_count": 22,
     "metadata": {},
     "output_type": "execute_result"
    },
    {
     "data": {
      "image/png": "[encoded data removed]",
      "text/plain": [
       "<Figure size 1152x720 with 1 Axes>"
      ]
     },
     "metadata": {
      "needs_background": "light"
     },
     "output_type": "display_data"
    }
   ],
   "source": [
    "plt.figure(figsize = (16,10))\n",
    "df.corr('kendall')['up'].sort_values().plot(kind='bar')"
   ]
  },
  {
   "cell_type": "code",
   "execution_count": 80,
   "metadata": {},
   "outputs": [],
   "source": [
    "from sklearn.model_selection import train_test_split\n",
    "\n",
    "X = df[['ingeneo', 'exa','up_prev', 'up_next']]\n",
    "# Label\n",
    "y = df['up'].values\n",
    "# Split\n",
    "X_train, X_test, y_train, y_test = train_test_split(X,y,test_size=0.5,random_state=84)"
   ]
  },
  {
   "cell_type": "code",
   "execution_count": 81,
   "metadata": {},
   "outputs": [
    {
     "data": {
      "text/plain": [
       "(5136,)"
      ]
     },
     "execution_count": 81,
     "metadata": {},
     "output_type": "execute_result"
    }
   ],
   "source": [
    "X_train.shape\n",
    "X_test.shape\n",
    "y_train.shape\n",
    "y_test.shape"
   ]
  },
  {
   "cell_type": "code",
   "execution_count": 82,
   "metadata": {},
   "outputs": [],
   "source": [
    "from sklearn.preprocessing import MinMaxScaler\n",
    "from tensorflow.keras.models import Sequential\n",
    "from tensorflow.keras.layers import Dense, Activation, Dropout"
   ]
  },
  {
   "cell_type": "code",
   "execution_count": 83,
   "metadata": {},
   "outputs": [
    {
     "name": "stdout",
     "output_type": "stream",
     "text": [
      "[[0.83333333 0.06349206 0.6031746  0.31746032]\n",
      " [0.5        0.26984127 1.         0.53968254]\n",
      " [1.         0.03174603 0.80952381 0.92063492]\n",
      " ...\n",
      " [1.         0.25396825 0.93650794 0.19047619]\n",
      " [1.         0.77777778 1.         0.52380952]\n",
      " [0.         0.6031746  0.19047619 0.23809524]]\n"
     ]
    }
   ],
   "source": [
    "scaler = MinMaxScaler()\n",
    "scaler.fit(X_train)\n",
    "X_train = scaler.transform(X_train)\n",
    "X_test = scaler.transform(X_test)\n",
    "print(X_train)"
   ]
  },
  {
   "cell_type": "code",
   "execution_count": 84,
   "metadata": {},
   "outputs": [],
   "source": [
    "model = Sequential()\n",
    "\n",
    "model.add(Dense(2,activation='relu'))\n",
    "# dropout is uncommented if dataframe is very unbalanced \n",
    "# model.add(Dropout(0.5))\n",
    "# model.add(Dense(62,activation='relu'))\n",
    "# model.add(Dropout(0.5))\n",
    "# model.add(Dense(16,activation='relu'))\n",
    "# model.add(Dropout(0.5))\n",
    "model.add(Dense(4,activation='relu'))\n",
    "# model.add(Dense(4,activation='relu'))\n",
    "model.add(Dense(units=1,activation='sigmoid'))\n",
    "# lr=0.01, momentum=0.9, decay=0.01\n",
    "# from tensorflow.keras.optimizers import Adam\n",
    "# opt = Adam(lr=0.001, beta_1=0.9, beta_2=0.999, epsilon=1e-08, decay=0.0)\n",
    "model.compile(optimizer='adam',loss=tf.keras.losses.BinaryCrossentropy(),metrics=['accuracy','mae'])"
   ]
  },
  {
   "cell_type": "code",
   "execution_count": 85,
   "metadata": {},
   "outputs": [],
   "source": [
    "from tensorflow.keras.callbacks import ModelCheckpoint\n",
    "filepath = 'my_best_model_1_loss_14_Days'\n",
    "filepath2 = 'my_best_model_1_accuracy_14_Days'\n",
    "checkpoint = ModelCheckpoint(filepath=filepath, \n",
    "                             monitor='val_loss',\n",
    "                             verbose=1, \n",
    "                             save_best_only=True,\n",
    "                             mode='min')\n",
    "checkpoint2 = ModelCheckpoint(filepath=filepath2, \n",
    "                             monitor='val_accuracy',\n",
    "                             verbose=1, \n",
    "                             save_best_only=True,\n",
    "                             mode='max')"
   ]
  },
  {
   "cell_type": "code",
   "execution_count": 86,
   "metadata": {},
   "outputs": [],
   "source": [
    "from keras.callbacks import EarlyStopping\n",
    "callbacks = [checkpoint,checkpoint2, EarlyStopping(patience=25, monitor=\"val_loss\")]"
   ]
  },
  {
   "cell_type": "code",
   "execution_count": 87,
   "metadata": {},
   "outputs": [
    {
     "name": "stdout",
     "output_type": "stream",
     "text": [
      "Epoch 1/2500\n",
      "1221/1284 [===========================>..] - ETA: 0s - loss: 0.6083 - accuracy: 0.7344 - mae: 0.4473\n",
      "Epoch 1: val_loss improved from inf to 0.46594, saving model to my_best_model_1_loss_14_Days\n",
      "INFO:tensorflow:Assets written to: my_best_model_1_loss_14_Days/assets\n",
      "\n",
      "Epoch 1: val_accuracy improved from -inf to 0.80646, saving model to my_best_model_1_accuracy_14_Days\n",
      "INFO:tensorflow:Assets written to: my_best_model_1_accuracy_14_Days/assets\n",
      "1284/1284 [==============================] - 3s 2ms/step - loss: 0.6024 - accuracy: 0.7373 - mae: 0.4430 - val_loss: 0.4659 - val_accuracy: 0.8065 - val_mae: 0.3477\n",
      "Epoch 2/2500\n",
      "1243/1284 [============================>.] - ETA: 0s - loss: 0.4263 - accuracy: 0.7977 - mae: 0.3022\n",
      "Epoch 2: val_loss improved from 0.46594 to 0.39196, saving model to my_best_model_1_loss_14_Days\n",
      "INFO:tensorflow:Assets written to: my_best_model_1_loss_14_Days/assets\n",
      "\n",
      "Epoch 2: val_accuracy improved from 0.80646 to 0.81133, saving model to my_best_model_1_accuracy_14_Days\n",
      "INFO:tensorflow:Assets written to: my_best_model_1_accuracy_14_Days/assets\n",
      "1284/1284 [==============================] - 2s 2ms/step - loss: 0.4257 - accuracy: 0.7977 - mae: 0.3014 - val_loss: 0.3920 - val_accuracy: 0.8113 - val_mae: 0.2679\n",
      "Epoch 3/2500\n",
      "1211/1284 [===========================>..] - ETA: 0s - loss: 0.3971 - accuracy: 0.8014 - mae: 0.2654\n",
      "Epoch 3: val_loss improved from 0.39196 to 0.38052, saving model to my_best_model_1_loss_14_Days\n",
      "INFO:tensorflow:Assets written to: my_best_model_1_loss_14_Days/assets\n",
      "\n",
      "Epoch 3: val_accuracy did not improve from 0.81133\n",
      "1284/1284 [==============================] - 2s 1ms/step - loss: 0.3961 - accuracy: 0.8020 - mae: 0.2646 - val_loss: 0.3805 - val_accuracy: 0.8094 - val_mae: 0.2513\n",
      "Epoch 4/2500\n",
      "1263/1284 [============================>.] - ETA: 0s - loss: 0.3891 - accuracy: 0.7995 - mae: 0.2547\n",
      "Epoch 4: val_loss improved from 0.38052 to 0.37568, saving model to my_best_model_1_loss_14_Days\n",
      "INFO:tensorflow:Assets written to: my_best_model_1_loss_14_Days/assets\n",
      "\n",
      "Epoch 4: val_accuracy did not improve from 0.81133\n",
      "1284/1284 [==============================] - 2s 2ms/step - loss: 0.3893 - accuracy: 0.7991 - mae: 0.2548 - val_loss: 0.3757 - val_accuracy: 0.8078 - val_mae: 0.2464\n",
      "Epoch 5/2500\n",
      "1257/1284 [============================>.] - ETA: 0s - loss: 0.3861 - accuracy: 0.7997 - mae: 0.2516\n",
      "Epoch 5: val_loss improved from 0.37568 to 0.37478, saving model to my_best_model_1_loss_14_Days\n",
      "INFO:tensorflow:Assets written to: my_best_model_1_loss_14_Days/assets\n",
      "\n",
      "Epoch 5: val_accuracy did not improve from 0.81133\n",
      "1284/1284 [==============================] - 2s 2ms/step - loss: 0.3855 - accuracy: 0.8002 - mae: 0.2512 - val_loss: 0.3748 - val_accuracy: 0.8078 - val_mae: 0.2425\n",
      "Epoch 6/2500\n",
      "1216/1284 [===========================>..] - ETA: 0s - loss: 0.3826 - accuracy: 0.8039 - mae: 0.2487\n",
      "Epoch 6: val_loss improved from 0.37478 to 0.37056, saving model to my_best_model_1_loss_14_Days\n",
      "INFO:tensorflow:Assets written to: my_best_model_1_loss_14_Days/assets\n",
      "\n",
      "Epoch 6: val_accuracy did not improve from 0.81133\n",
      "1284/1284 [==============================] - 2s 1ms/step - loss: 0.3834 - accuracy: 0.8030 - mae: 0.2489 - val_loss: 0.3706 - val_accuracy: 0.8078 - val_mae: 0.2407\n",
      "Epoch 7/2500\n",
      "1228/1284 [===========================>..] - ETA: 0s - loss: 0.3827 - accuracy: 0.7952 - mae: 0.2480\n",
      "Epoch 7: val_loss improved from 0.37056 to 0.37035, saving model to my_best_model_1_loss_14_Days\n",
      "INFO:tensorflow:Assets written to: my_best_model_1_loss_14_Days/assets\n",
      "\n",
      "Epoch 7: val_accuracy did not improve from 0.81133\n",
      "1284/1284 [==============================] - 2s 1ms/step - loss: 0.3824 - accuracy: 0.7946 - mae: 0.2476 - val_loss: 0.3704 - val_accuracy: 0.8078 - val_mae: 0.2400\n",
      "Epoch 8/2500\n",
      "1260/1284 [============================>.] - ETA: 0s - loss: 0.3806 - accuracy: 0.8024 - mae: 0.2470\n",
      "Epoch 8: val_loss improved from 0.37035 to 0.36918, saving model to my_best_model_1_loss_14_Days\n",
      "INFO:tensorflow:Assets written to: my_best_model_1_loss_14_Days/assets\n",
      "\n",
      "Epoch 8: val_accuracy did not improve from 0.81133\n",
      "1284/1284 [==============================] - 2s 1ms/step - loss: 0.3809 - accuracy: 0.8018 - mae: 0.2470 - val_loss: 0.3692 - val_accuracy: 0.8069 - val_mae: 0.2393\n",
      "Epoch 9/2500\n",
      "1255/1284 [============================>.] - ETA: 0s - loss: 0.3812 - accuracy: 0.8000 - mae: 0.2459\n",
      "Epoch 9: val_loss improved from 0.36918 to 0.36915, saving model to my_best_model_1_loss_14_Days\n",
      "INFO:tensorflow:Assets written to: my_best_model_1_loss_14_Days/assets\n",
      "\n",
      "Epoch 9: val_accuracy did not improve from 0.81133\n",
      "1284/1284 [==============================] - 2s 2ms/step - loss: 0.3811 - accuracy: 0.8002 - mae: 0.2457 - val_loss: 0.3692 - val_accuracy: 0.8078 - val_mae: 0.2390\n",
      "Epoch 10/2500\n",
      "1264/1284 [============================>.] - ETA: 0s - loss: 0.3812 - accuracy: 0.8064 - mae: 0.2464\n",
      "Epoch 10: val_loss improved from 0.36915 to 0.36883, saving model to my_best_model_1_loss_14_Days\n",
      "INFO:tensorflow:Assets written to: my_best_model_1_loss_14_Days/assets\n",
      "\n",
      "Epoch 10: val_accuracy did not improve from 0.81133\n",
      "1284/1284 [==============================] - 2s 2ms/step - loss: 0.3802 - accuracy: 0.8067 - mae: 0.2459 - val_loss: 0.3688 - val_accuracy: 0.8078 - val_mae: 0.2386\n",
      "Epoch 11/2500\n",
      "1251/1284 [============================>.] - ETA: 0s - loss: 0.3824 - accuracy: 0.8014 - mae: 0.2465\n",
      "Epoch 11: val_loss did not improve from 0.36883\n",
      "\n",
      "Epoch 11: val_accuracy did not improve from 0.81133\n",
      "1284/1284 [==============================] - 2s 1ms/step - loss: 0.3801 - accuracy: 0.8026 - mae: 0.2453 - val_loss: 0.3688 - val_accuracy: 0.8078 - val_mae: 0.2378\n",
      "Epoch 12/2500\n",
      "1278/1284 [============================>.] - ETA: 0s - loss: 0.3789 - accuracy: 0.8087 - mae: 0.2438\n",
      "Epoch 12: val_loss did not improve from 0.36883\n",
      "\n",
      "Epoch 12: val_accuracy did not improve from 0.81133\n",
      "1284/1284 [==============================] - 2s 1ms/step - loss: 0.3790 - accuracy: 0.8084 - mae: 0.2439 - val_loss: 0.3694 - val_accuracy: 0.8018 - val_mae: 0.2388\n",
      "Epoch 13/2500\n",
      "1272/1284 [============================>.] - ETA: 0s - loss: 0.3798 - accuracy: 0.8037 - mae: 0.2443\n",
      "Epoch 13: val_loss did not improve from 0.36883\n",
      "\n",
      "Epoch 13: val_accuracy did not improve from 0.81133\n",
      "1284/1284 [==============================] - 2s 1ms/step - loss: 0.3798 - accuracy: 0.8032 - mae: 0.2444 - val_loss: 0.3710 - val_accuracy: 0.8018 - val_mae: 0.2392\n",
      "Epoch 14/2500\n",
      "1250/1284 [============================>.] - ETA: 0s - loss: 0.3799 - accuracy: 0.8034 - mae: 0.2444\n",
      "Epoch 14: val_loss did not improve from 0.36883\n",
      "\n",
      "Epoch 14: val_accuracy did not improve from 0.81133\n",
      "1284/1284 [==============================] - 2s 1ms/step - loss: 0.3795 - accuracy: 0.8033 - mae: 0.2442 - val_loss: 0.3698 - val_accuracy: 0.8012 - val_mae: 0.2387\n",
      "Epoch 15/2500\n",
      "1242/1284 [============================>.] - ETA: 0s - loss: 0.3792 - accuracy: 0.7999 - mae: 0.2436\n",
      "Epoch 15: val_loss improved from 0.36883 to 0.36840, saving model to my_best_model_1_loss_14_Days\n",
      "INFO:tensorflow:Assets written to: my_best_model_1_loss_14_Days/assets\n",
      "\n",
      "Epoch 15: val_accuracy did not improve from 0.81133\n",
      "1284/1284 [==============================] - 2s 1ms/step - loss: 0.3796 - accuracy: 0.8008 - mae: 0.2438 - val_loss: 0.3684 - val_accuracy: 0.8078 - val_mae: 0.2382\n",
      "Epoch 16/2500\n",
      "1275/1284 [============================>.] - ETA: 0s - loss: 0.3801 - accuracy: 0.8073 - mae: 0.2446\n",
      "Epoch 16: val_loss did not improve from 0.36840\n",
      "\n",
      "Epoch 16: val_accuracy did not improve from 0.81133\n",
      "1284/1284 [==============================] - 2s 1ms/step - loss: 0.3797 - accuracy: 0.8074 - mae: 0.2443 - val_loss: 0.3700 - val_accuracy: 0.8078 - val_mae: 0.2377\n",
      "Epoch 17/2500\n",
      "1228/1284 [===========================>..] - ETA: 0s - loss: 0.3786 - accuracy: 0.8003 - mae: 0.2435\n",
      "Epoch 17: val_loss did not improve from 0.36840\n",
      "\n",
      "Epoch 17: val_accuracy did not improve from 0.81133\n",
      "1284/1284 [==============================] - 2s 1ms/step - loss: 0.3792 - accuracy: 0.7996 - mae: 0.2440 - val_loss: 0.3686 - val_accuracy: 0.8078 - val_mae: 0.2378\n",
      "Epoch 18/2500\n",
      "1237/1284 [===========================>..] - ETA: 0s - loss: 0.3777 - accuracy: 0.8036 - mae: 0.2431\n",
      "Epoch 18: val_loss did not improve from 0.36840\n"
     ]
    },
    {
     "name": "stdout",
     "output_type": "stream",
     "text": [
      "\n",
      "Epoch 18: val_accuracy did not improve from 0.81133\n",
      "1284/1284 [==============================] - 2s 1ms/step - loss: 0.3792 - accuracy: 0.8033 - mae: 0.2438 - val_loss: 0.3705 - val_accuracy: 0.8014 - val_mae: 0.2391\n",
      "Epoch 19/2500\n",
      "1261/1284 [============================>.] - ETA: 0s - loss: 0.3773 - accuracy: 0.8021 - mae: 0.2430\n",
      "Epoch 19: val_loss did not improve from 0.36840\n",
      "\n",
      "Epoch 19: val_accuracy did not improve from 0.81133\n",
      "1284/1284 [==============================] - 2s 1ms/step - loss: 0.3799 - accuracy: 0.8010 - mae: 0.2444 - val_loss: 0.3697 - val_accuracy: 0.8078 - val_mae: 0.2371\n",
      "Epoch 20/2500\n",
      "1279/1284 [============================>.] - ETA: 0s - loss: 0.3788 - accuracy: 0.8051 - mae: 0.2436\n",
      "Epoch 20: val_loss did not improve from 0.36840\n",
      "\n",
      "Epoch 20: val_accuracy did not improve from 0.81133\n",
      "1284/1284 [==============================] - 2s 1ms/step - loss: 0.3789 - accuracy: 0.8053 - mae: 0.2436 - val_loss: 0.3714 - val_accuracy: 0.8078 - val_mae: 0.2376\n",
      "Epoch 21/2500\n",
      "1232/1284 [===========================>..] - ETA: 0s - loss: 0.3797 - accuracy: 0.8030 - mae: 0.2446\n",
      "Epoch 21: val_loss did not improve from 0.36840\n",
      "\n",
      "Epoch 21: val_accuracy did not improve from 0.81133\n",
      "1284/1284 [==============================] - 2s 1ms/step - loss: 0.3796 - accuracy: 0.8028 - mae: 0.2445 - val_loss: 0.3688 - val_accuracy: 0.8012 - val_mae: 0.2378\n",
      "Epoch 22/2500\n",
      "1261/1284 [============================>.] - ETA: 0s - loss: 0.3778 - accuracy: 0.8051 - mae: 0.2435\n",
      "Epoch 22: val_loss did not improve from 0.36840\n",
      "\n",
      "Epoch 22: val_accuracy did not improve from 0.81133\n",
      "1284/1284 [==============================] - 2s 1ms/step - loss: 0.3785 - accuracy: 0.8053 - mae: 0.2439 - val_loss: 0.3685 - val_accuracy: 0.8008 - val_mae: 0.2370\n",
      "Epoch 23/2500\n",
      "1284/1284 [==============================] - ETA: 0s - loss: 0.3791 - accuracy: 0.8082 - mae: 0.2432\n",
      "Epoch 23: val_loss did not improve from 0.36840\n",
      "\n",
      "Epoch 23: val_accuracy did not improve from 0.81133\n",
      "1284/1284 [==============================] - 2s 1ms/step - loss: 0.3791 - accuracy: 0.8082 - mae: 0.2432 - val_loss: 0.3744 - val_accuracy: 0.8018 - val_mae: 0.2405\n",
      "Epoch 24/2500\n",
      "1251/1284 [============================>.] - ETA: 0s - loss: 0.3787 - accuracy: 0.8006 - mae: 0.2432\n",
      "Epoch 24: val_loss did not improve from 0.36840\n",
      "\n",
      "Epoch 24: val_accuracy did not improve from 0.81133\n",
      "1284/1284 [==============================] - 2s 1ms/step - loss: 0.3800 - accuracy: 0.8002 - mae: 0.2443 - val_loss: 0.3685 - val_accuracy: 0.8078 - val_mae: 0.2374\n",
      "Epoch 25/2500\n",
      "1263/1284 [============================>.] - ETA: 0s - loss: 0.3798 - accuracy: 0.8001 - mae: 0.2446\n",
      "Epoch 25: val_loss did not improve from 0.36840\n",
      "\n",
      "Epoch 25: val_accuracy did not improve from 0.81133\n",
      "1284/1284 [==============================] - 2s 1ms/step - loss: 0.3791 - accuracy: 0.8004 - mae: 0.2443 - val_loss: 0.3693 - val_accuracy: 0.8078 - val_mae: 0.2368\n",
      "Epoch 26/2500\n",
      "1282/1284 [============================>.] - ETA: 0s - loss: 0.3792 - accuracy: 0.8015 - mae: 0.2435\n",
      "Epoch 26: val_loss did not improve from 0.36840\n",
      "\n",
      "Epoch 26: val_accuracy did not improve from 0.81133\n",
      "1284/1284 [==============================] - 2s 1ms/step - loss: 0.3796 - accuracy: 0.8014 - mae: 0.2436 - val_loss: 0.3704 - val_accuracy: 0.8078 - val_mae: 0.2372\n",
      "Epoch 27/2500\n",
      "1224/1284 [===========================>..] - ETA: 0s - loss: 0.3782 - accuracy: 0.8088 - mae: 0.2432\n",
      "Epoch 27: val_loss did not improve from 0.36840\n",
      "\n",
      "Epoch 27: val_accuracy did not improve from 0.81133\n",
      "1284/1284 [==============================] - 2s 1ms/step - loss: 0.3793 - accuracy: 0.8078 - mae: 0.2435 - val_loss: 0.3686 - val_accuracy: 0.8028 - val_mae: 0.2380\n",
      "Epoch 28/2500\n",
      "1253/1284 [============================>.] - ETA: 0s - loss: 0.3779 - accuracy: 0.8057 - mae: 0.2432\n",
      "Epoch 28: val_loss did not improve from 0.36840\n",
      "\n",
      "Epoch 28: val_accuracy did not improve from 0.81133\n",
      "1284/1284 [==============================] - 2s 1ms/step - loss: 0.3793 - accuracy: 0.8055 - mae: 0.2440 - val_loss: 0.3696 - val_accuracy: 0.8078 - val_mae: 0.2371\n",
      "Epoch 29/2500\n",
      "1253/1284 [============================>.] - ETA: 0s - loss: 0.3786 - accuracy: 0.8043 - mae: 0.2426\n",
      "Epoch 29: val_loss did not improve from 0.36840\n",
      "\n",
      "Epoch 29: val_accuracy did not improve from 0.81133\n",
      "1284/1284 [==============================] - 2s 1ms/step - loss: 0.3792 - accuracy: 0.8033 - mae: 0.2431 - val_loss: 0.3705 - val_accuracy: 0.8020 - val_mae: 0.2394\n",
      "Epoch 30/2500\n",
      "1259/1284 [============================>.] - ETA: 0s - loss: 0.3800 - accuracy: 0.8016 - mae: 0.2444\n",
      "Epoch 30: val_loss did not improve from 0.36840\n",
      "\n",
      "Epoch 30: val_accuracy did not improve from 0.81133\n",
      "1284/1284 [==============================] - 2s 1ms/step - loss: 0.3794 - accuracy: 0.8020 - mae: 0.2439 - val_loss: 0.3684 - val_accuracy: 0.8065 - val_mae: 0.2379\n",
      "Epoch 31/2500\n",
      "1273/1284 [============================>.] - ETA: 0s - loss: 0.3791 - accuracy: 0.8044 - mae: 0.2441\n",
      "Epoch 31: val_loss did not improve from 0.36840\n",
      "\n",
      "Epoch 31: val_accuracy did not improve from 0.81133\n",
      "1284/1284 [==============================] - 2s 1ms/step - loss: 0.3792 - accuracy: 0.8047 - mae: 0.2443 - val_loss: 0.3692 - val_accuracy: 0.8043 - val_mae: 0.2381\n",
      "Epoch 32/2500\n",
      "1248/1284 [============================>.] - ETA: 0s - loss: 0.3781 - accuracy: 0.7993 - mae: 0.2435\n",
      "Epoch 32: val_loss did not improve from 0.36840\n",
      "\n",
      "Epoch 32: val_accuracy did not improve from 0.81133\n",
      "1284/1284 [==============================] - 2s 1ms/step - loss: 0.3802 - accuracy: 0.7975 - mae: 0.2445 - val_loss: 0.3689 - val_accuracy: 0.8037 - val_mae: 0.2374\n",
      "Epoch 33/2500\n",
      "1227/1284 [===========================>..] - ETA: 0s - loss: 0.3818 - accuracy: 0.8046 - mae: 0.2453\n",
      "Epoch 33: val_loss did not improve from 0.36840\n",
      "\n",
      "Epoch 33: val_accuracy did not improve from 0.81133\n",
      "1284/1284 [==============================] - 2s 1ms/step - loss: 0.3796 - accuracy: 0.8067 - mae: 0.2445 - val_loss: 0.3722 - val_accuracy: 0.8078 - val_mae: 0.2365\n",
      "Epoch 34/2500\n",
      "1267/1284 [============================>.] - ETA: 0s - loss: 0.3808 - accuracy: 0.8045 - mae: 0.2432\n",
      "Epoch 34: val_loss did not improve from 0.36840\n",
      "\n",
      "Epoch 34: val_accuracy did not improve from 0.81133\n",
      "1284/1284 [==============================] - 2s 1ms/step - loss: 0.3797 - accuracy: 0.8047 - mae: 0.2428 - val_loss: 0.3688 - val_accuracy: 0.8026 - val_mae: 0.2383\n",
      "Epoch 35/2500\n",
      "1259/1284 [============================>.] - ETA: 0s - loss: 0.3801 - accuracy: 0.8020 - mae: 0.2445\n",
      "Epoch 35: val_loss did not improve from 0.36840\n",
      "\n",
      "Epoch 35: val_accuracy did not improve from 0.81133\n",
      "1284/1284 [==============================] - 2s 1ms/step - loss: 0.3796 - accuracy: 0.8024 - mae: 0.2441 - val_loss: 0.3685 - val_accuracy: 0.8041 - val_mae: 0.2378\n",
      "Epoch 36/2500\n",
      "1248/1284 [============================>.] - ETA: 0s - loss: 0.3797 - accuracy: 0.8027 - mae: 0.2437\n",
      "Epoch 36: val_loss did not improve from 0.36840\n",
      "\n",
      "Epoch 36: val_accuracy did not improve from 0.81133\n",
      "1284/1284 [==============================] - 2s 1ms/step - loss: 0.3794 - accuracy: 0.8024 - mae: 0.2437 - val_loss: 0.3689 - val_accuracy: 0.8045 - val_mae: 0.2385\n",
      "Epoch 37/2500\n",
      "1282/1284 [============================>.] - ETA: 0s - loss: 0.3789 - accuracy: 0.8007 - mae: 0.2444\n",
      "Epoch 37: val_loss did not improve from 0.36840\n",
      "\n",
      "Epoch 37: val_accuracy did not improve from 0.81133\n",
      "1284/1284 [==============================] - 2s 1ms/step - loss: 0.3790 - accuracy: 0.8006 - mae: 0.2445 - val_loss: 0.3765 - val_accuracy: 0.8078 - val_mae: 0.2376\n",
      "Epoch 38/2500\n",
      "1221/1284 [===========================>..] - ETA: 0s - loss: 0.3784 - accuracy: 0.8022 - mae: 0.2433\n",
      "Epoch 38: val_loss did not improve from 0.36840\n",
      "\n",
      "Epoch 38: val_accuracy did not improve from 0.81133\n",
      "1284/1284 [==============================] - 2s 1ms/step - loss: 0.3798 - accuracy: 0.8016 - mae: 0.2438 - val_loss: 0.3686 - val_accuracy: 0.8078 - val_mae: 0.2373\n",
      "Epoch 39/2500\n",
      "1283/1284 [============================>.] - ETA: 0s - loss: 0.3793 - accuracy: 0.8049 - mae: 0.2441\n",
      "Epoch 39: val_loss did not improve from 0.36840\n",
      "\n",
      "Epoch 39: val_accuracy did not improve from 0.81133\n",
      "1284/1284 [==============================] - 2s 1ms/step - loss: 0.3796 - accuracy: 0.8047 - mae: 0.2443 - val_loss: 0.3714 - val_accuracy: 0.8014 - val_mae: 0.2387\n"
     ]
    },
    {
     "name": "stdout",
     "output_type": "stream",
     "text": [
      "Epoch 40/2500\n",
      "1284/1284 [==============================] - ETA: 0s - loss: 0.3796 - accuracy: 0.8020 - mae: 0.2435\n",
      "Epoch 40: val_loss did not improve from 0.36840\n",
      "\n",
      "Epoch 40: val_accuracy did not improve from 0.81133\n",
      "1284/1284 [==============================] - 2s 1ms/step - loss: 0.3796 - accuracy: 0.8020 - mae: 0.2435 - val_loss: 0.3693 - val_accuracy: 0.8078 - val_mae: 0.2374\n"
     ]
    }
   ],
   "source": [
    "history = model.fit(x=X_train,y=y_train, epochs=2500, batch_size=4,validation_data=(X_test, y_test), callbacks=callbacks\n",
    "          );"
   ]
  },
  {
   "cell_type": "code",
   "execution_count": 88,
   "metadata": {},
   "outputs": [],
   "source": [
    "model_loss = pd.DataFrame(model.history.history)"
   ]
  },
  {
   "cell_type": "code",
   "execution_count": 89,
   "metadata": {},
   "outputs": [
    {
     "data": {
      "text/plain": [
       "<AxesSubplot:>"
      ]
     },
     "execution_count": 89,
     "metadata": {},
     "output_type": "execute_result"
    },
    {
     "data": {
      "image/png": "[encoded data removed]",
      "text/plain": [
       "<Figure size 432x288 with 1 Axes>"
      ]
     },
     "metadata": {
      "needs_background": "light"
     },
     "output_type": "display_data"
    }
   ],
   "source": [
    "model_loss.plot()"
   ]
  },
  {
   "cell_type": "code",
   "execution_count": 90,
   "metadata": {},
   "outputs": [
    {
     "name": "stdout",
     "output_type": "stream",
     "text": [
      "161/161 [==============================] - 0s 917us/step - loss: 0.3787 - accuracy: 0.8119 - mae: 0.2432\n",
      "161/161 [==============================] - 0s 879us/step - loss: 0.3693 - accuracy: 0.8078 - mae: 0.2374\n"
     ]
    }
   ],
   "source": [
    "training_score = model.evaluate(X_train,y_train)\n",
    "test_score = model.evaluate(X_test,y_test)"
   ]
  },
  {
   "cell_type": "code",
   "execution_count": 91,
   "metadata": {},
   "outputs": [
    {
     "name": "stdout",
     "output_type": "stream",
     "text": [
      "              precision    recall  f1-score   support\n",
      "\n",
      "           0       0.91      0.72      0.80      2800\n",
      "           1       0.73      0.91      0.81      2336\n",
      "\n",
      "    accuracy                           0.81      5136\n",
      "   macro avg       0.82      0.82      0.81      5136\n",
      "weighted avg       0.83      0.81      0.81      5136\n",
      "\n"
     ]
    }
   ],
   "source": [
    "from sklearn.metrics import classification_report\n",
    "predictions = (model.predict(X_test) > 0.5).astype(\"int32\")\n",
    "print(classification_report(y_test,predictions))"
   ]
  },
  {
   "cell_type": "code",
   "execution_count": 92,
   "metadata": {},
   "outputs": [
    {
     "name": "stdout",
     "output_type": "stream",
     "text": [
      "              precision    recall  f1-score   support\n",
      "\n",
      "           0       0.92      0.72      0.81      2813\n",
      "           1       0.73      0.92      0.82      2323\n",
      "\n",
      "    accuracy                           0.81      5136\n",
      "   macro avg       0.82      0.82      0.81      5136\n",
      "weighted avg       0.83      0.81      0.81      5136\n",
      "\n"
     ]
    }
   ],
   "source": [
    "predictions = (model.predict(X_train) > 0.5).astype(\"int32\")\n",
    "print(classification_report(y_train,predictions))"
   ]
  },
  {
   "cell_type": "code",
   "execution_count": 93,
   "metadata": {},
   "outputs": [
    {
     "name": "stdout",
     "output_type": "stream",
     "text": [
      "              precision    recall  f1-score   support\n",
      "\n",
      "           0       0.92      0.72      0.81      2813\n",
      "           1       0.73      0.92      0.82      2323\n",
      "\n",
      "    accuracy                           0.81      5136\n",
      "   macro avg       0.82      0.82      0.81      5136\n",
      "weighted avg       0.83      0.81      0.81      5136\n",
      "\n"
     ]
    }
   ],
   "source": [
    "predictions = (model.predict(X_train) > 0.5).astype(\"int32\")\n",
    "print(classification_report(y_train,predictions))"
   ]
  },
  {
   "cell_type": "code",
   "execution_count": null,
   "metadata": {},
   "outputs": [],
   "source": []
  }
 ],
 "metadata": {
  "interpreter": {
   "hash": "31f2aee4e71d21fbe5cf8b01ff0e069b9275f58929596ceb00d14d90e3e16cd6"
  },
  "kernelspec": {
   "display_name": "Python 3",
   "language": "python",
   "name": "python3"
  },
  "language_info": {
   "codemirror_mode": {
    "name": "ipython",
    "version": 3
   },
   "file_extension": ".py",
   "mimetype": "text/x-python",
   "name": "python",
   "nbconvert_exporter": "python",
   "pygments_lexer": "ipython3",
   "version": "3.8.8"
  }
 },
 "nbformat": 4,
 "nbformat_minor": 2
}
